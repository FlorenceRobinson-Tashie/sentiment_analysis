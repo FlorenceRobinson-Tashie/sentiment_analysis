{
  "nbformat": 4,
  "nbformat_minor": 0,
  "metadata": {
    "colab": {
      "provenance": []
    },
    "kernelspec": {
      "name": "python3",
      "display_name": "Python 3"
    },
    "language_info": {
      "name": "python"
    }
  },
  "cells": [
    {
      "cell_type": "markdown",
      "source": [
        "# #**Tools & Techniques for Performing Sentiment Analysis**\n",
        "\n",
        "# There are various tools and techniques used to perform Sentiment Analysis, ranging from rule-based methods to machine learning and deep learning models."
      ],
      "metadata": {
        "id": "h0_NFkYO5kBZ"
      }
    },
    {
      "cell_type": "markdown",
      "source": [
        " # 1️⃣ Rule-Based Techniques (Lexicon-Based)\n",
        "\n",
        "These methods use predefined word lists (lexicons) to determine sentiment based on words and their associated scores.\n",
        "\n",
        "Popular Tools & Libraries:\n",
        "\n",
        "✔ VADER (Valence Aware Dictionary and sEntiment Reasoner) – Best for social media and short text.\n",
        "\n",
        "✔ TextBlob – Simple library for NLP tasks, including sentiment analysis.\n",
        "\n",
        "✔ SentiWordNet – Sentiment dictionary based on WordNet."
      ],
      "metadata": {
        "id": "eBo6VSdY8t6y"
      }
    },
    {
      "cell_type": "markdown",
      "source": [
        "# 1a. VADER"
      ],
      "metadata": {
        "id": "lP65nRbS9lyJ"
      }
    },
    {
      "cell_type": "code",
      "source": [
        "# Install package\n",
        "!pip install vaderSentiment\n"
      ],
      "metadata": {
        "colab": {
          "base_uri": "https://localhost:8080/"
        },
        "id": "HGiyTTPK9G7s",
        "outputId": "d50c09c8-a2a8-4fb2-f38c-ff654a84c832"
      },
      "execution_count": 31,
      "outputs": [
        {
          "output_type": "stream",
          "name": "stdout",
          "text": [
            "Requirement already satisfied: vaderSentiment in /usr/local/lib/python3.11/dist-packages (3.3.2)\n",
            "Requirement already satisfied: requests in /usr/local/lib/python3.11/dist-packages (from vaderSentiment) (2.32.3)\n",
            "Requirement already satisfied: charset-normalizer<4,>=2 in /usr/local/lib/python3.11/dist-packages (from requests->vaderSentiment) (3.4.1)\n",
            "Requirement already satisfied: idna<4,>=2.5 in /usr/local/lib/python3.11/dist-packages (from requests->vaderSentiment) (3.10)\n",
            "Requirement already satisfied: urllib3<3,>=1.21.1 in /usr/local/lib/python3.11/dist-packages (from requests->vaderSentiment) (2.3.0)\n",
            "Requirement already satisfied: certifi>=2017.4.17 in /usr/local/lib/python3.11/dist-packages (from requests->vaderSentiment) (2025.1.31)\n"
          ]
        }
      ]
    },
    {
      "cell_type": "code",
      "execution_count": 33,
      "metadata": {
        "colab": {
          "base_uri": "https://localhost:8080/"
        },
        "id": "qqYYbC8vdggb",
        "outputId": "f8109903-1578-4240-f76c-d960b5fb13d1"
      },
      "outputs": [
        {
          "output_type": "stream",
          "name": "stdout",
          "text": [
            "The score is: {'neg': 0.0, 'neu': 0.36, 'pos': 0.64, 'compound': 0.8713}\n"
          ]
        }
      ],
      "source": [
        "from vaderSentiment.vaderSentiment import SentimentIntensityAnalyzer\n",
        "\n",
        "# instantiate the vader model\n",
        "analyzer = SentimentIntensityAnalyzer()\n",
        "# text example\n",
        "text = \"I absolutely love this phone! It's amazing!\"\n",
        "# fit the model\n",
        "score = analyzer.polarity_scores(text)\n",
        "\n",
        "print(f\"The score is:\", score)\n"
      ]
    },
    {
      "cell_type": "markdown",
      "source": [
        "# Comment:\n",
        "\n",
        "* The text is highly positive with a compound score of 0.8713.\n"
      ],
      "metadata": {
        "id": "81dZr9Vd0AkT"
      }
    },
    {
      "cell_type": "markdown",
      "source": [
        "# 1b. TextBlob"
      ],
      "metadata": {
        "id": "KiSvE1kh9qW7"
      }
    },
    {
      "cell_type": "code",
      "source": [
        "#install package\n",
        "!pip install textblob"
      ],
      "metadata": {
        "colab": {
          "base_uri": "https://localhost:8080/"
        },
        "id": "v6ERvk2Y-IOz",
        "outputId": "c4c20c85-7951-4520-f6dc-2da85ab0524e"
      },
      "execution_count": 34,
      "outputs": [
        {
          "output_type": "stream",
          "name": "stdout",
          "text": [
            "Requirement already satisfied: textblob in /usr/local/lib/python3.11/dist-packages (0.19.0)\n",
            "Requirement already satisfied: nltk>=3.9 in /usr/local/lib/python3.11/dist-packages (from textblob) (3.9.1)\n",
            "Requirement already satisfied: click in /usr/local/lib/python3.11/dist-packages (from nltk>=3.9->textblob) (8.1.8)\n",
            "Requirement already satisfied: joblib in /usr/local/lib/python3.11/dist-packages (from nltk>=3.9->textblob) (1.4.2)\n",
            "Requirement already satisfied: regex>=2021.8.3 in /usr/local/lib/python3.11/dist-packages (from nltk>=3.9->textblob) (2024.11.6)\n",
            "Requirement already satisfied: tqdm in /usr/local/lib/python3.11/dist-packages (from nltk>=3.9->textblob) (4.67.1)\n"
          ]
        }
      ]
    },
    {
      "cell_type": "code",
      "source": [
        "from textblob import TextBlob\n",
        "\n",
        "# Example text\n",
        "text = \"I absolutely do not like this food! It's awful!\"\n",
        "blob = TextBlob(text)\n",
        "sentiment = blob.sentiment\n",
        "\n",
        "print(sentiment)\n",
        "\n",
        "# Access polarity and subjectivity\n",
        "polarity = sentiment.polarity\n",
        "subjectivity = sentiment.subjectivity\n",
        "\n",
        "print(f\"The Polarity is : {polarity}\")\n",
        "print(f\"The Subjectivity is : {subjectivity}\")\n"
      ],
      "metadata": {
        "colab": {
          "base_uri": "https://localhost:8080/"
        },
        "id": "ZtbzXQmC9ZPO",
        "outputId": "09e60683-d23b-44ab-f4fe-c6866ac4ba0c"
      },
      "execution_count": 38,
      "outputs": [
        {
          "output_type": "stream",
          "name": "stdout",
          "text": [
            "Sentiment(polarity=-0.5625, subjectivity=0.95)\n",
            "The Polarity is : -0.5625\n",
            "The Subjectivity is : 0.95\n"
          ]
        }
      ]
    },
    {
      "cell_type": "markdown",
      "source": [
        "# Comment:\n",
        "\n",
        "  * Polarity -0.5625 → Negative sentiment (because of words like \"awful\").\n",
        "  * Subjectivity 0.95 → Highly opinionated (not a neutral or factual statement).\n",
        "\n",
        "The statement is negative but highly subjective."
      ],
      "metadata": {
        "id": "O9tQZDYT1Hgb"
      }
    },
    {
      "cell_type": "markdown",
      "source": [
        "# 1c. sentiwordnet\n"
      ],
      "metadata": {
        "id": "xU0FG-uq-2Fs"
      }
    },
    {
      "cell_type": "code",
      "source": [
        "!pip install nltk"
      ],
      "metadata": {
        "colab": {
          "base_uri": "https://localhost:8080/"
        },
        "id": "rKaSNcXC-7j0",
        "outputId": "642ef08a-93d3-4c7c-86aa-81f602805f8f"
      },
      "execution_count": 39,
      "outputs": [
        {
          "output_type": "stream",
          "name": "stdout",
          "text": [
            "Requirement already satisfied: nltk in /usr/local/lib/python3.11/dist-packages (3.9.1)\n",
            "Requirement already satisfied: click in /usr/local/lib/python3.11/dist-packages (from nltk) (8.1.8)\n",
            "Requirement already satisfied: joblib in /usr/local/lib/python3.11/dist-packages (from nltk) (1.4.2)\n",
            "Requirement already satisfied: regex>=2021.8.3 in /usr/local/lib/python3.11/dist-packages (from nltk) (2024.11.6)\n",
            "Requirement already satisfied: tqdm in /usr/local/lib/python3.11/dist-packages (from nltk) (4.67.1)\n"
          ]
        }
      ]
    },
    {
      "cell_type": "code",
      "source": [
        "# import nltk\n",
        "# nltk.download('wordnet')\n",
        "# import nltk\n",
        "# nltk.data.path.append('/usr/local/nltk_data')\n",
        "# nltk.download('wordnet', download_dir='/usr/local/nltk_data')\n",
        "# nltk.download('omw-1.4')  # Open Multilingual WordNet\n",
        "# nltk.download('punkt')  # Tokenizer models\n",
        "# !mkdir -p /root/nltk_data\n",
        "# !python -m nltk.downloader -d /root/nltk_data wordnet"
      ],
      "metadata": {
        "id": "Do3jtD6gAlTA"
      },
      "execution_count": 41,
      "outputs": []
    },
    {
      "cell_type": "code",
      "source": [
        "import nltk\n",
        "nltk.download('sentiwordnet')\n",
        "from nltk.corpus import sentiwordnet as swn\n",
        "\n",
        "# Example usage\n",
        "word = \"happy\"\n",
        "synsets = list(swn.senti_synsets(word))\n",
        "\n",
        "if synsets:\n",
        "    synset = synsets[0]  # Get the first synset\n",
        "    print(f\"Word: {word}\")\n",
        "    print(f\"Positive score: {synset.pos_score()}\")\n",
        "    print(f\"Negative score: {synset.neg_score()}\")\n",
        "    print(f\"Objective score: {synset.obj_score()}\")\n",
        "else:\n",
        "    print(f\"No synsets found for '{word}' in SentiWordNet.\")\n"
      ],
      "metadata": {
        "colab": {
          "base_uri": "https://localhost:8080/"
        },
        "id": "z1a_fjEp-BEt",
        "outputId": "a0f0b713-17a1-410a-b10d-072b432af20a"
      },
      "execution_count": 40,
      "outputs": [
        {
          "output_type": "stream",
          "name": "stdout",
          "text": [
            "Word: happy\n",
            "Positive score: 0.875\n",
            "Negative score: 0.0\n",
            "Objective score: 0.125\n"
          ]
        },
        {
          "output_type": "stream",
          "name": "stderr",
          "text": [
            "[nltk_data] Downloading package sentiwordnet to /root/nltk_data...\n",
            "[nltk_data]   Package sentiwordnet is already up-to-date!\n"
          ]
        }
      ]
    },
    {
      "cell_type": "markdown",
      "source": [
        "# Comment:\n",
        "\n",
        "* The text is highly positive with a postive score of 0.875.\n"
      ],
      "metadata": {
        "id": "G5pS5-_n4JG1"
      }
    },
    {
      "cell_type": "markdown",
      "source": [
        " # When to use?\n",
        "\n",
        "* When you need a fast and lightweight approach.\n",
        "\n",
        "\n",
        "* Suitable for social media, customer reviews, and news articles.\n",
        "\n",
        "\n"
      ],
      "metadata": {
        "id": "wUF-1zIzA-oP"
      }
    },
    {
      "cell_type": "markdown",
      "source": [
        "#  2️⃣  Machine Learning-Based Techniques*\n",
        "\n",
        "These methods use supervised learning to classify text into sentiment categories.\n",
        "\n",
        "Popular Machine Learning Algorithms:\n",
        "\n",
        "✔ Naïve Bayes (NB) – Works well for text classification.\n",
        "\n",
        "✔ Logistic Regression – A simple and effective baseline model.\n",
        "\n",
        "✔ Support Vector Machines (SVM) – Used for high-dimensional data.\n",
        "\n",
        "✔ Random Forest (RF) – Can be used for feature-rich text classification.\n",
        "\n",
        "Popular Libraries:\n",
        "\n",
        "✔ Scikit-learn – Used for text vectorization (TF-IDF, CountVectorizer) and training ML models.\n",
        "\n",
        "✔ NLTK (Natural Language Toolkit) – Provides NLP preprocessing tools.\n",
        "\n"
      ],
      "metadata": {
        "id": "FJKpcdbgBMNN"
      }
    },
    {
      "cell_type": "markdown",
      "source": [
        "# 2a.  Logistic Regression"
      ],
      "metadata": {
        "id": "u5vcxgFzGIU0"
      }
    },
    {
      "cell_type": "code",
      "source": [
        "from sklearn.feature_extraction.text import CountVectorizer\n",
        "from sklearn.linear_model import LogisticRegression\n",
        "\n",
        "# Sample data\n",
        "texts = [\"I love this product!\", \"This is the worst purchase ever.\"]\n",
        "labels = [1, 0]  # 1 = Positive, 0 = Negative\n",
        "\n",
        "# Convert text to numerical features\n",
        "vectorizer = CountVectorizer()\n",
        "X = vectorizer.fit_transform(texts)\n",
        "\n",
        "# Train a simple logistic regression model\n",
        "model = LogisticRegression()\n",
        "model.fit(X, labels)\n",
        "\n",
        "# Predict sentiment\n",
        "test_text = [\"I hate this service!\"]\n",
        "X_test = vectorizer.transform(test_text)\n",
        "print(f\"The prediction is\", model.predict(X_test))\n"
      ],
      "metadata": {
        "colab": {
          "base_uri": "https://localhost:8080/"
        },
        "id": "0ME2JckG99VZ",
        "outputId": "0a11ed53-aff8-499e-bab1-5bb963d7b1c7"
      },
      "execution_count": 43,
      "outputs": [
        {
          "output_type": "stream",
          "name": "stdout",
          "text": [
            "The prediction is [1]\n"
          ]
        }
      ]
    },
    {
      "cell_type": "markdown",
      "source": [
        "# Comment\n",
        "The model predicted 1 (Positive) instead of 0 (Negative) for the test_text \"I hate this service!\". This could be due to the small dataset, lack of training data, or how the CountVectorizer is handling words.\n",
        "\n",
        "- To resolve this:\n",
        "\n",
        "  *     1. Lack of Training Data -  Add more training samples\n",
        "\n",
        "  *     2. Vocabulary Size & Feature Representation -  Use TfidfVectorizer Instead TF-IDF gives better weight to important words.\n",
        "\n",
        "  *     3. Model Regularization Bias - Reduce Regularization (C parameter)\n",
        "\n",
        "  See improved code below:\n",
        "\n",
        "\n"
      ],
      "metadata": {
        "id": "200FaoVpC8Nu"
      }
    },
    {
      "cell_type": "code",
      "source": [
        "from sklearn.feature_extraction.text import TfidfVectorizer\n",
        "from sklearn.linear_model import LogisticRegression\n",
        "\n",
        "# Expanded dataset\n",
        "texts = [\n",
        "    \"I love this product!\", \"This is the worst purchase ever.\",\n",
        "    \"Amazing quality, very satisfied!\", \"Terrible service, not recommended.\",\n",
        "    \"I am happy with this.\", \"I hate this service!\",\n",
        "    \"This is fantastic!\", \"Awful experience.\"\n",
        "]\n",
        "labels = [1, 0, 1, 0, 1, 0, 1, 0]  # Positive (1) and Negative (0)\n",
        "\n",
        "# Convert text to numerical features\n",
        "vectorizer = TfidfVectorizer()\n",
        "X = vectorizer.fit_transform(texts)\n",
        "\n",
        "# Train logistic regression\n",
        "model = LogisticRegression(C=10.0)  # Reduce regularization\n",
        "model.fit(X, labels)\n",
        "\n",
        "# Predict sentiment for a test text\n",
        "test_text = [\"I hate this service!\"]\n",
        "X_test = vectorizer.transform(test_text)\n",
        "print(f\"The prediction is;\", model.predict(X_test))\n"
      ],
      "metadata": {
        "colab": {
          "base_uri": "https://localhost:8080/"
        },
        "id": "t4Sb6g6FCwdw",
        "outputId": "28639230-4c29-4f5e-b13a-43153e1b9d08"
      },
      "execution_count": 44,
      "outputs": [
        {
          "output_type": "stream",
          "name": "stdout",
          "text": [
            "The prediction is; [0]\n"
          ]
        }
      ]
    },
    {
      "cell_type": "markdown",
      "source": [
        "# Comment:\n",
        "\n",
        "* The prediction is '0' , the statment is negative.\n"
      ],
      "metadata": {
        "id": "JjjX7S925IdK"
      }
    },
    {
      "cell_type": "markdown",
      "source": [
        "# 💡 When to use?\n",
        "\n",
        "  * When you have labeled training data.\n",
        "  \n",
        "  * When you need a customized sentiment analysis model."
      ],
      "metadata": {
        "id": "RejhsoAU98b-"
      }
    },
    {
      "cell_type": "markdown",
      "source": [
        "# 3️⃣ Deep Learning-Based Techniques\n",
        "\n",
        "These models use neural networks to improve accuracy, especially for complex text.\n",
        "\n",
        "Popular Deep Learning Models:\n",
        "\n",
        "✔ Recurrent Neural Networks (RNN) – Good for sequential text data.\n",
        "\n",
        "✔ Long Short-Term Memory (LSTM) – Handles long-term dependencies in text.\n",
        "\n",
        "✔ Transformers (BERT, GPT-3, RoBERTa) – State-of-the-art models for NLP.\n",
        "\n",
        "Popular Deep Learning Libraries:\n",
        "\n",
        "✔ TensorFlow & Keras – Used for building deep learning models.\n",
        "\n",
        "✔ PyTorch – Used for training transformers like BERT.\n",
        "\n",
        "✔ Hugging Face Transformers – Pre-trained models for sentiment analysis.\n"
      ],
      "metadata": {
        "id": "LzWqbMdl98J5"
      }
    },
    {
      "cell_type": "markdown",
      "source": [
        "# 3a. Hugging Face's Pre-trained BERT Model  "
      ],
      "metadata": {
        "id": "O75SEkNmGaqa"
      }
    },
    {
      "cell_type": "code",
      "source": [
        "from transformers import pipeline\n",
        "\n",
        "sentiment_model = pipeline(\"sentiment-analysis\")\n",
        "result = sentiment_model(\"I am extremely happy with this service!\")\n",
        "print(\"-------------------------\")\n",
        "print(\"The result is\")\n",
        "print(result)\n"
      ],
      "metadata": {
        "colab": {
          "base_uri": "https://localhost:8080/"
        },
        "id": "nC8mbJF2D7s4",
        "outputId": "1940d9e5-17dd-406d-c5d4-b3b4d2da50b7"
      },
      "execution_count": 26,
      "outputs": [
        {
          "output_type": "stream",
          "name": "stderr",
          "text": [
            "No model was supplied, defaulted to distilbert/distilbert-base-uncased-finetuned-sst-2-english and revision 714eb0f (https://huggingface.co/distilbert/distilbert-base-uncased-finetuned-sst-2-english).\n",
            "Using a pipeline without specifying a model name and revision in production is not recommended.\n",
            "Device set to use cpu\n"
          ]
        },
        {
          "output_type": "stream",
          "name": "stdout",
          "text": [
            "-------------------------\n",
            "The result is\n",
            "[{'label': 'POSITIVE', 'score': 0.9998718500137329}]\n"
          ]
        }
      ]
    },
    {
      "cell_type": "markdown",
      "source": [
        "# Comment:\n",
        "\n",
        "* The statement is label 'positive' with a high score of 0.99.\n"
      ],
      "metadata": {
        "id": "7gvySe0I5iS8"
      }
    },
    {
      "cell_type": "markdown",
      "source": [
        "#  💡 When to use?\n",
        "\n",
        "  * When you need high accuracy and can afford more computational power.\n",
        "  \n",
        "  * When working on large-scale applications."
      ],
      "metadata": {
        "id": "MakXbov_Egkm"
      }
    },
    {
      "cell_type": "markdown",
      "source": [
        "# 4️⃣ Hybrid Approaches (Lexicon + Machine Learning)\n",
        "Some models combine rule-based and machine learning methods for better results.\n",
        "\n",
        "💡 Example:\n",
        "\n",
        "* First, use VADER to detect sentiment scores.\n",
        "\n",
        "* Then, train a Logistic Regression model for fine-tuning."
      ],
      "metadata": {
        "id": "pV2UsijFFiB1"
      }
    },
    {
      "cell_type": "code",
      "source": [
        "from vaderSentiment.vaderSentiment import SentimentIntensityAnalyzer\n",
        "\n",
        "# Initialize VADER sentiment analyzer\n",
        "analyzer = SentimentIntensityAnalyzer()\n",
        "\n",
        "# Sample text for prediction\n",
        "test_text = \"This is a great product!\"\n",
        "\n",
        "# Use VADER for initial scoring\n",
        "vader_score = analyzer.polarity_scores(test_text)['compound']\n",
        "\n",
        "# Use ML model for fine-tuning sentiment classification\n",
        "X_test = vectorizer.transform([test_text])\n",
        "ml_prediction = model.predict(X_test)[0]  # Get scalar value\n",
        "\n",
        "# Final classification\n",
        "if vader_score > 0.5 and ml_prediction == 1:\n",
        "    sentiment = \"Highly Positive\"\n",
        "elif ml_prediction == 1:\n",
        "    sentiment = \"Positive\"\n",
        "elif ml_prediction == 0:\n",
        "    sentiment = \"Negative\"\n",
        "else:\n",
        "    sentiment = \"Neutral\"\n",
        "\n",
        "print(f\"VADER Score: {vader_score}, ML Prediction: {ml_prediction}, Final Sentiment: {sentiment}\")\n"
      ],
      "metadata": {
        "colab": {
          "base_uri": "https://localhost:8080/"
        },
        "id": "q8Wm-pA1HI2s",
        "outputId": "c32d806f-6aa6-4373-a59a-18b9fbd0878b"
      },
      "execution_count": 47,
      "outputs": [
        {
          "output_type": "stream",
          "name": "stdout",
          "text": [
            "VADER Score: 0.6588, ML Prediction: 1, Final Sentiment: Highly Positive\n"
          ]
        }
      ]
    },
    {
      "cell_type": "markdown",
      "source": [
        "# Comment:\n",
        "\n",
        "* The stament is highly positive with a score of 0.65 and ML Prediction = 1.\n"
      ],
      "metadata": {
        "id": "NDmteL_g52Fx"
      }
    }
  ]
}